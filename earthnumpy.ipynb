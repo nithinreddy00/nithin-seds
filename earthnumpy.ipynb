{
  "nbformat": 4,
  "nbformat_minor": 0,
  "metadata": {
    "colab": {
      "provenance": [],
      "authorship_tag": "ABX9TyOMMFnEnIiGEb0j/mfBjtSU",
      "include_colab_link": true
    },
    "kernelspec": {
      "name": "python3",
      "display_name": "Python 3"
    },
    "language_info": {
      "name": "python"
    }
  },
  "cells": [
    {
      "cell_type": "markdown",
      "metadata": {
        "id": "view-in-github",
        "colab_type": "text"
      },
      "source": [
        "<a href=\"https://colab.research.google.com/github/nithinreddy00/nithin-seds/blob/main/earthnumpy.ipynb\" target=\"_parent\"><img src=\"https://colab.research.google.com/assets/colab-badge.svg\" alt=\"Open In Colab\"/></a>"
      ]
    },
    {
      "cell_type": "code",
      "source": [
        "pip install spiceypy"
      ],
      "metadata": {
        "colab": {
          "base_uri": "https://localhost:8080/"
        },
        "id": "pGY6IV5dYA0M",
        "outputId": "b36b2e7e-35cc-45c0-85a6-bf7033bcb400"
      },
      "execution_count": 2,
      "outputs": [
        {
          "output_type": "stream",
          "name": "stdout",
          "text": [
            "Looking in indexes: https://pypi.org/simple, https://us-python.pkg.dev/colab-wheels/public/simple/\n",
            "Collecting spiceypy\n",
            "  Downloading spiceypy-5.1.2-py3-none-manylinux_2_17_x86_64.manylinux2014_x86_64.whl (1.7 MB)\n",
            "\u001b[2K     \u001b[90m━━━━━━━━━━━━━━━━━━━━━━━━━━━━━━━━━━━━━━━━\u001b[0m \u001b[32m1.7/1.7 MB\u001b[0m \u001b[31m21.6 MB/s\u001b[0m eta \u001b[36m0:00:00\u001b[0m\n",
            "\u001b[?25hRequirement already satisfied: numpy>=1.17.0 in /usr/local/lib/python3.10/dist-packages (from spiceypy) (1.22.4)\n",
            "Installing collected packages: spiceypy\n",
            "Successfully installed spiceypy-5.1.2\n"
          ]
        }
      ]
    },
    {
      "cell_type": "code",
      "source": [
        "import spiceypy"
      ],
      "metadata": {
        "id": "LCMIbUgdYNRS"
      },
      "execution_count": 3,
      "outputs": []
    },
    {
      "cell_type": "code",
      "source": [
        "import datetime\n",
        "today_date = datetime.datetime.today()\n",
        "today_date = today_date.strftime('%Y-%m-%dT00:00:00')\n",
        "print(f\"Today's date (midnight): {today_date}\")"
      ],
      "metadata": {
        "colab": {
          "base_uri": "https://localhost:8080/"
        },
        "id": "-SmJ6IU1Yb5c",
        "outputId": "7fcd2c33-e8e2-4470-d805-ca58cc4012f6"
      },
      "execution_count": 4,
      "outputs": [
        {
          "output_type": "stream",
          "name": "stdout",
          "text": [
            "Today's date (midnight): 2023-05-08T00:00:00\n"
          ]
        }
      ]
    },
    {
      "cell_type": "code",
      "source": [
        "# Load the spice kernels for leapseconds and for the planets\n",
        "spiceypy.furnsh('/content/de432s.bsp')\n",
        "spiceypy.furnsh('/content/naif0012 (1).tls')"
      ],
      "metadata": {
        "id": "EfHVlLqeYehS"
      },
      "execution_count": 11,
      "outputs": []
    },
    {
      "cell_type": "code",
      "source": [
        "# Compute the Ephemeris Time\n",
        "et_today_midnight = spiceypy.utc2et(today_date)\n",
        "print(f\"The Ephemeris Time: {et_today_midnight}\")"
      ],
      "metadata": {
        "colab": {
          "base_uri": "https://localhost:8080/"
        },
        "id": "VUuptcI-bBHl",
        "outputId": "55a7ef3c-595a-44f1-cee9-e7a028b53e1e"
      },
      "execution_count": 13,
      "outputs": [
        {
          "output_type": "stream",
          "name": "stdout",
          "text": [
            "The Ephemeris Time: 736776069.185389\n"
          ]
        }
      ]
    },
    {
      "cell_type": "code",
      "source": [
        "# Compute the state vector of the Earth w.r.t. the Sun\n",
        "earth_state_wrt_sun, earth_sun_light_time = spiceypy.spkgeo(targ=399,\n",
        "                                                            et=et_today_midnight,\n",
        "                                                            ref='ECLIPJ2000',\n",
        "                                                            obs=10)"
      ],
      "metadata": {
        "id": "g-kHQLpTt58H"
      },
      "execution_count": 15,
      "outputs": []
    },
    {
      "cell_type": "code",
      "source": [
        "# The state vector is 6 dimensional: x,y,z in km and the corresponding velocities in km/s\n",
        "print('State vector of the Earth w.r.t. the Sun for \"today\" (midnight):\\n', earth_state_wrt_sun)"
      ],
      "metadata": {
        "colab": {
          "base_uri": "https://localhost:8080/"
        },
        "id": "do0Gf845uEoX",
        "outputId": "6bc0a806-2e6e-4763-c99c-2c143dffdbb5"
      },
      "execution_count": 16,
      "outputs": [
        {
          "output_type": "stream",
          "name": "stdout",
          "text": [
            "State vector of the Earth w.r.t. the Sun for \"today\" (midnight):\n",
            " [-1.03239816e+08 -1.10123968e+08  6.60711736e+03  2.12358791e+01\n",
            " -2.04842629e+01  1.80709125e-03]\n"
          ]
        }
      ]
    },
    {
      "cell_type": "code",
      "source": [
        "# The (Euclidean) distance should be around 1 AU. Why \"around\"? Well the Earth revolves the Sun in\n",
        "# a slightly non-perfect circle (elliptic orbit). First, we compute the distance in km.\n",
        "import math\n",
        "earth_sun_distance = math.sqrt(earth_state_wrt_sun[0]**2.0 \\\n",
        "                             + earth_state_wrt_sun[1]**2.0 \\\n",
        "                             + earth_state_wrt_sun[2]**2.0)"
      ],
      "metadata": {
        "id": "DXQvEfvuuIZe"
      },
      "execution_count": 17,
      "outputs": []
    },
    {
      "cell_type": "code",
      "source": [
        "# Convert the distance in astronomical units (1 AU)\n",
        "# Instead of searching for the \"most recent\" value, we use the default value in SPICE.\n",
        "# This way, we can easily compare our results with the results of others.\n",
        "earth_sun_distance_au = spiceypy.convrt(earth_sun_distance, 'km', 'AU')"
      ],
      "metadata": {
        "id": "NPma_lYxuVoe"
      },
      "execution_count": 18,
      "outputs": []
    },
    {
      "cell_type": "code",
      "source": [
        "print('Current distance between the Earth and the Sun in AU:', earth_sun_distance_au)"
      ],
      "metadata": {
        "colab": {
          "base_uri": "https://localhost:8080/"
        },
        "id": "DRAOKIHGue0Z",
        "outputId": "ad209836-e4f9-4cbd-dc37-918c7764d05b"
      },
      "execution_count": 19,
      "outputs": [
        {
          "output_type": "stream",
          "name": "stdout",
          "text": [
            "Current distance between the Earth and the Sun in AU: 1.0090350092692808\n"
          ]
        }
      ]
    },
    {
      "cell_type": "code",
      "source": [],
      "metadata": {
        "id": "KLQNMbaaui5s"
      },
      "execution_count": null,
      "outputs": []
    }
  ]
}